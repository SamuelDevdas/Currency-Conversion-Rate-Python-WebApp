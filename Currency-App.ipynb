{
 "cells": [
  {
   "cell_type": "markdown",
   "source": "# A Currency Conversion Rate App created with Python packages - bs4, requests, and gradio ",
   "metadata": {
    "cell_id": "8039e9c7c48847d9b0e17f31e219d07f",
    "tags": [],
    "is_collapsed": false,
    "deepnote_app_coordinates": {
     "x": 0,
     "y": null,
     "w": 12,
     "h": 5
    },
    "deepnote_cell_type": "text-cell-h1"
   }
  },
  {
   "cell_type": "markdown",
   "source": "### ",
   "metadata": {
    "cell_id": "a83ccf5f1e6e43a683e9c0151b3bb523",
    "tags": [],
    "is_collapsed": false,
    "deepnote_app_coordinates": {
     "x": 0,
     "y": 6,
     "w": 12,
     "h": 5
    },
    "deepnote_cell_type": "text-cell-h3"
   }
  },
  {
   "cell_type": "markdown",
   "source": "### 1. Pip Install all the required libraries",
   "metadata": {
    "cell_id": "bcb03cec3ae6411392fe75a9b61e49c1",
    "tags": [],
    "is_collapsed": false,
    "deepnote_app_coordinates": {
     "x": 0,
     "y": 12,
     "w": 12,
     "h": 5
    },
    "deepnote_cell_type": "text-cell-h3"
   }
  },
  {
   "cell_type": "code",
   "metadata": {
    "tags": [],
    "cell_id": "65ddb80c-6c99-4c7a-81fc-34ea3e53e6ae",
    "deepnote_to_be_reexecuted": false,
    "source_hash": "2cd80a9d",
    "execution_start": 1650631640771,
    "execution_millis": 30475,
    "deepnote_app_coordinates": {
     "x": 0,
     "y": 18,
     "w": 12,
     "h": 5
    },
    "deepnote_cell_type": "code",
    "deepnote_cell_height": 755
   },
   "source": "!pip install bs4\n!pip install requests\n!pip install gradio\n",
   "execution_count": 2,
   "outputs": [
    {
     "name": "stdout",
     "text": "Collecting bs4\n  Downloading bs4-0.0.1.tar.gz (1.1 kB)\nRequirement already satisfied: beautifulsoup4 in /shared-libs/python3.7/py/lib/python3.7/site-packages (from bs4) (4.11.1)\nRequirement already satisfied: soupsieve>1.2 in /shared-libs/python3.7/py/lib/python3.7/site-packages (from beautifulsoup4->bs4) (2.3.2.post1)\nBuilding wheels for collected packages: bs4\n  Building wheel for bs4 (setup.py) ... \u001b[?25ldone\n\u001b[?25h  Created wheel for bs4: filename=bs4-0.0.1-py3-none-any.whl size=1272 sha256=ffcf81c4a2c407c9c657fa1e209e79b3002443000e0500f1a20f75e300f6bb3f\n  Stored in directory: /root/.cache/pip/wheels/0a/9e/ba/20e5bbc1afef3a491f0b3bb74d508f99403aabe76eda2167ca\nSuccessfully built bs4\nInstalling collected packages: bs4\nSuccessfully installed bs4-0.0.1\n\u001b[33mWARNING: You are using pip version 20.1.1; however, version 22.0.4 is available.\nYou should consider upgrading via the '/root/venv/bin/python -m pip install --upgrade pip' command.\u001b[0m\nRequirement already satisfied: requests in /shared-libs/python3.7/py/lib/python3.7/site-packages (2.27.1)\nRequirement already satisfied: idna<4,>=2.5; python_version >= \"3\" in /shared-libs/python3.7/py-core/lib/python3.7/site-packages (from requests) (3.3)\nRequirement already satisfied: certifi>=2017.4.17 in /shared-libs/python3.7/py/lib/python3.7/site-packages (from requests) (2021.10.8)\nRequirement already satisfied: charset-normalizer~=2.0.0; python_version >= \"3\" in /shared-libs/python3.7/py-core/lib/python3.7/site-packages (from requests) (2.0.12)\nRequirement already satisfied: urllib3<1.27,>=1.21.1 in /shared-libs/python3.7/py/lib/python3.7/site-packages (from requests) (1.26.9)\n\u001b[33mWARNING: You are using pip version 20.1.1; however, version 22.0.4 is available.\nYou should consider upgrading via the '/root/venv/bin/python -m pip install --upgrade pip' command.\u001b[0m\nCollecting gradio\n  Downloading gradio-2.9.4-py3-none-any.whl (2.9 MB)\n\u001b[K     |████████████████████████████████| 2.9 MB 31.9 MB/s \n\u001b[?25hCollecting pydub\n  Downloading pydub-0.25.1-py2.py3-none-any.whl (32 kB)\nCollecting orjson\n  Downloading orjson-3.6.8-cp37-cp37m-manylinux_2_17_x86_64.manylinux2014_x86_64.whl (253 kB)\n\u001b[K     |████████████████████████████████| 253 kB 69.5 MB/s \n\u001b[?25hRequirement already satisfied: numpy in /shared-libs/python3.7/py/lib/python3.7/site-packages (from gradio) (1.21.6)\nRequirement already satisfied: pandas in /shared-libs/python3.7/py/lib/python3.7/site-packages (from gradio) (1.2.5)\nCollecting pycryptodome\n  Downloading pycryptodome-3.14.1-cp35-abi3-manylinux2010_x86_64.whl (2.0 MB)\n\u001b[K     |████████████████████████████████| 2.0 MB 65.1 MB/s \n\u001b[?25hCollecting python-multipart\n  Downloading python-multipart-0.0.5.tar.gz (32 kB)\nRequirement already satisfied: requests in /shared-libs/python3.7/py/lib/python3.7/site-packages (from gradio) (2.27.1)\nCollecting markdown-it-py[linkify,plugins]\n  Downloading markdown_it_py-2.1.0-py3-none-any.whl (84 kB)\n\u001b[K     |████████████████████████████████| 84 kB 989 kB/s \n\u001b[?25hRequirement already satisfied: aiohttp in /shared-libs/python3.7/py-core/lib/python3.7/site-packages (from gradio) (3.8.1)\nRequirement already satisfied: Jinja2 in /shared-libs/python3.7/py-core/lib/python3.7/site-packages (from gradio) (2.11.3)\nRequirement already satisfied: pillow in /shared-libs/python3.7/py/lib/python3.7/site-packages (from gradio) (9.1.0)\nCollecting fastapi\n  Downloading fastapi-0.75.2-py3-none-any.whl (54 kB)\n\u001b[K     |████████████████████████████████| 54 kB 5.3 MB/s \n\u001b[?25hCollecting paramiko\n  Downloading paramiko-2.10.3-py2.py3-none-any.whl (211 kB)\n\u001b[K     |████████████████████████████████| 211 kB 70.3 MB/s \n\u001b[?25hCollecting ffmpy\n  Downloading ffmpy-0.3.0.tar.gz (4.8 kB)\nCollecting analytics-python\n  Downloading analytics_python-1.4.0-py2.py3-none-any.whl (15 kB)\nRequirement already satisfied: matplotlib in /shared-libs/python3.7/py/lib/python3.7/site-packages (from gradio) (3.5.1)\nCollecting uvicorn\n  Downloading uvicorn-0.17.6-py3-none-any.whl (53 kB)\n\u001b[K     |████████████████████████████████| 53 kB 6.1 MB/s \n\u001b[?25hRequirement already satisfied: python-dateutil>=2.7.3 in /shared-libs/python3.7/py-core/lib/python3.7/site-packages (from pandas->gradio) (2.8.2)\nRequirement already satisfied: pytz>=2017.3 in /shared-libs/python3.7/py/lib/python3.7/site-packages (from pandas->gradio) (2022.1)\nRequirement already satisfied: six>=1.4.0 in /shared-libs/python3.7/py-core/lib/python3.7/site-packages (from python-multipart->gradio) (1.16.0)\nRequirement already satisfied: charset-normalizer~=2.0.0; python_version >= \"3\" in /shared-libs/python3.7/py-core/lib/python3.7/site-packages (from requests->gradio) (2.0.12)\nRequirement already satisfied: idna<4,>=2.5; python_version >= \"3\" in /shared-libs/python3.7/py-core/lib/python3.7/site-packages (from requests->gradio) (3.3)\nRequirement already satisfied: certifi>=2017.4.17 in /shared-libs/python3.7/py/lib/python3.7/site-packages (from requests->gradio) (2021.10.8)\nRequirement already satisfied: urllib3<1.27,>=1.21.1 in /shared-libs/python3.7/py/lib/python3.7/site-packages (from requests->gradio) (1.26.9)\nRequirement already satisfied: typing_extensions>=3.7.4; python_version < \"3.8\" in /shared-libs/python3.7/py-core/lib/python3.7/site-packages (from markdown-it-py[linkify,plugins]->gradio) (4.2.0)\nCollecting mdurl~=0.1\n  Downloading mdurl-0.1.1-py3-none-any.whl (10 kB)\nCollecting linkify-it-py~=1.0; extra == \"linkify\"\n  Downloading linkify_it_py-1.0.3-py3-none-any.whl (19 kB)\nCollecting mdit-py-plugins; extra == \"plugins\"\n  Downloading mdit_py_plugins-0.3.0-py3-none-any.whl (43 kB)\n\u001b[K     |████████████████████████████████| 43 kB 5.9 MB/s \n\u001b[?25hRequirement already satisfied: asynctest==0.13.0; python_version < \"3.8\" in /shared-libs/python3.7/py-core/lib/python3.7/site-packages (from aiohttp->gradio) (0.13.0)\nRequirement already satisfied: attrs>=17.3.0 in /shared-libs/python3.7/py-core/lib/python3.7/site-packages (from aiohttp->gradio) (21.4.0)\nRequirement already satisfied: frozenlist>=1.1.1 in /shared-libs/python3.7/py-core/lib/python3.7/site-packages (from aiohttp->gradio) (1.3.0)\nRequirement already satisfied: aiosignal>=1.1.2 in /shared-libs/python3.7/py-core/lib/python3.7/site-packages (from aiohttp->gradio) (1.2.0)\nRequirement already satisfied: async-timeout<5.0,>=4.0.0a3 in /shared-libs/python3.7/py-core/lib/python3.7/site-packages (from aiohttp->gradio) (4.0.2)\nRequirement already satisfied: yarl<2.0,>=1.0 in /shared-libs/python3.7/py-core/lib/python3.7/site-packages (from aiohttp->gradio) (1.7.2)\nRequirement already satisfied: multidict<7.0,>=4.5 in /shared-libs/python3.7/py-core/lib/python3.7/site-packages (from aiohttp->gradio) (6.0.2)\nRequirement already satisfied: MarkupSafe>=0.23 in /shared-libs/python3.7/py-core/lib/python3.7/site-packages (from Jinja2->gradio) (2.0.1)\nCollecting starlette==0.17.1\n  Downloading starlette-0.17.1-py3-none-any.whl (58 kB)\n\u001b[K     |████████████████████████████████| 58 kB 12.9 MB/s \n\u001b[?25hRequirement already satisfied: pydantic!=1.7,!=1.7.1,!=1.7.2,!=1.7.3,!=1.8,!=1.8.1,<2.0.0,>=1.6.2 in /shared-libs/python3.7/py/lib/python3.7/site-packages (from fastapi->gradio) (1.8.2)\nCollecting pynacl>=1.0.1\n  Downloading PyNaCl-1.5.0-cp36-abi3-manylinux_2_17_x86_64.manylinux2014_x86_64.manylinux_2_24_x86_64.whl (856 kB)\n\u001b[K     |████████████████████████████████| 856 kB 47.3 MB/s \n\u001b[?25hRequirement already satisfied: cryptography>=2.5 in /shared-libs/python3.7/py/lib/python3.7/site-packages (from paramiko->gradio) (36.0.2)\nCollecting bcrypt>=3.1.3\n  Downloading bcrypt-3.2.0-cp36-abi3-manylinux_2_17_x86_64.manylinux2014_x86_64.manylinux_2_24_x86_64.whl (61 kB)\n\u001b[K     |████████████████████████████████| 61 kB 1.2 MB/s \n\u001b[?25hCollecting backoff==1.10.0\n  Downloading backoff-1.10.0-py2.py3-none-any.whl (31 kB)\nCollecting monotonic>=1.5\n  Downloading monotonic-1.6-py2.py3-none-any.whl (8.2 kB)\nRequirement already satisfied: pyparsing>=2.2.1 in /shared-libs/python3.7/py/lib/python3.7/site-packages (from matplotlib->gradio) (3.0.8)\nRequirement already satisfied: packaging>=20.0 in /shared-libs/python3.7/py/lib/python3.7/site-packages (from matplotlib->gradio) (21.3)\nRequirement already satisfied: cycler>=0.10 in /shared-libs/python3.7/py/lib/python3.7/site-packages (from matplotlib->gradio) (0.11.0)\nRequirement already satisfied: fonttools>=4.22.0 in /shared-libs/python3.7/py/lib/python3.7/site-packages (from matplotlib->gradio) (4.32.0)\nRequirement already satisfied: kiwisolver>=1.0.1 in /shared-libs/python3.7/py/lib/python3.7/site-packages (from matplotlib->gradio) (1.4.2)\nRequirement already satisfied: click>=7.0 in /shared-libs/python3.7/py/lib/python3.7/site-packages (from uvicorn->gradio) (8.0.4)\nCollecting asgiref>=3.4.0\n  Downloading asgiref-3.5.0-py3-none-any.whl (22 kB)\nCollecting h11>=0.8\n  Downloading h11-0.13.0-py3-none-any.whl (58 kB)\n\u001b[K     |████████████████████████████████| 58 kB 13.6 MB/s \n\u001b[?25hCollecting uc-micro-py\n  Downloading uc_micro_py-1.0.1-py3-none-any.whl (6.2 kB)\nCollecting anyio<4,>=3.0.0\n  Downloading anyio-3.5.0-py3-none-any.whl (79 kB)\n\u001b[K     |████████████████████████████████| 79 kB 21.2 MB/s \n\u001b[?25hRequirement already satisfied: cffi>=1.4.1 in /shared-libs/python3.7/py-core/lib/python3.7/site-packages (from pynacl>=1.0.1->paramiko->gradio) (1.15.0)\nRequirement already satisfied: importlib-metadata; python_version < \"3.8\" in /shared-libs/python3.7/py-core/lib/python3.7/site-packages (from click>=7.0->uvicorn->gradio) (4.11.3)\nCollecting sniffio>=1.1\n  Downloading sniffio-1.2.0-py3-none-any.whl (10 kB)\nRequirement already satisfied: pycparser in /shared-libs/python3.7/py-core/lib/python3.7/site-packages (from cffi>=1.4.1->pynacl>=1.0.1->paramiko->gradio) (2.21)\nRequirement already satisfied: zipp>=0.5 in /shared-libs/python3.7/py-core/lib/python3.7/site-packages (from importlib-metadata; python_version < \"3.8\"->click>=7.0->uvicorn->gradio) (3.8.0)\nBuilding wheels for collected packages: python-multipart, ffmpy\n  Building wheel for python-multipart (setup.py) ... \u001b[?25ldone\n\u001b[?25h  Created wheel for python-multipart: filename=python_multipart-0.0.5-py3-none-any.whl size=31670 sha256=b790f6ac12a0bcf9fb9db05885d446bc6f13d68e2af91a1b0c8165d8f275c6da\n  Stored in directory: /root/.cache/pip/wheels/2c/41/7c/bfd1c180534ffdcc0972f78c5758f89881602175d48a8bcd2c\n  Building wheel for ffmpy (setup.py) ... \u001b[?25ldone\n\u001b[?25h  Created wheel for ffmpy: filename=ffmpy-0.3.0-py3-none-any.whl size=4710 sha256=f8ba76e19473ee8bbd8f60d6ba7bd66dfb3fb8c081aad0e6c5d3f33c0484ba50\n  Stored in directory: /root/.cache/pip/wheels/13/e4/6c/e8059816e86796a597c6e6b0d4c880630f51a1fcfa0befd5e6\nSuccessfully built python-multipart ffmpy\nInstalling collected packages: pydub, orjson, pycryptodome, python-multipart, mdurl, uc-micro-py, linkify-it-py, mdit-py-plugins, markdown-it-py, sniffio, anyio, starlette, fastapi, pynacl, bcrypt, paramiko, ffmpy, backoff, monotonic, analytics-python, asgiref, h11, uvicorn, gradio\nSuccessfully installed analytics-python-1.4.0 anyio-3.5.0 asgiref-3.5.0 backoff-1.10.0 bcrypt-3.2.0 fastapi-0.75.2 ffmpy-0.3.0 gradio-2.9.4 h11-0.13.0 linkify-it-py-1.0.3 markdown-it-py-2.1.0 mdit-py-plugins-0.3.0 mdurl-0.1.1 monotonic-1.6 orjson-3.6.8 paramiko-2.10.3 pycryptodome-3.14.1 pydub-0.25.1 pynacl-1.5.0 python-multipart-0.0.5 sniffio-1.2.0 starlette-0.17.1 uc-micro-py-1.0.1 uvicorn-0.17.6\n\u001b[33mWARNING: You are using pip version 20.1.1; however, version 22.0.4 is available.\nYou should consider upgrading via the '/root/venv/bin/python -m pip install --upgrade pip' command.\u001b[0m\n",
     "output_type": "stream"
    }
   ]
  },
  {
   "cell_type": "markdown",
   "source": "### ",
   "metadata": {
    "cell_id": "9db016c027a14388909ccc3b29b72c17",
    "tags": [],
    "is_collapsed": false,
    "deepnote_app_coordinates": {
     "x": 0,
     "y": 174,
     "w": 12,
     "h": 5
    },
    "deepnote_cell_type": "text-cell-h3"
   }
  },
  {
   "cell_type": "markdown",
   "source": "### 2. Import all the required modules",
   "metadata": {
    "cell_id": "52ee02177af84b91a39b3e3b0964bc01",
    "tags": [],
    "is_collapsed": false,
    "deepnote_app_coordinates": {
     "x": 0,
     "y": 24,
     "w": 12,
     "h": 5
    },
    "deepnote_cell_type": "text-cell-h3"
   }
  },
  {
   "cell_type": "code",
   "metadata": {
    "cell_id": "c3da7f68a9f44901a0ace15d07088ae8",
    "tags": [],
    "deepnote_to_be_reexecuted": false,
    "source_hash": "9d8ff2e0",
    "execution_start": 1650631682394,
    "execution_millis": 2276,
    "deepnote_app_coordinates": {
     "x": 0,
     "y": 30,
     "w": 12,
     "h": 5
    },
    "deepnote_cell_type": "code",
    "deepnote_cell_height": 117
   },
   "source": "from bs4 import BeautifulSoup\nimport requests\nimport gradio as gr",
   "execution_count": 3,
   "outputs": []
  },
  {
   "cell_type": "markdown",
   "source": "### ",
   "metadata": {
    "cell_id": "6ca01c37060d4178bad3f6ed24b8dec1",
    "tags": [],
    "is_collapsed": false,
    "deepnote_app_coordinates": {
     "x": 0,
     "y": 168,
     "w": 12,
     "h": 5
    },
    "deepnote_cell_type": "text-cell-h3"
   }
  },
  {
   "cell_type": "markdown",
   "source": "### 3. Store the 'x-rates.com' url in the 'url' variable",
   "metadata": {
    "cell_id": "63681c3f27004b3e87e2662f1af3b1ba",
    "tags": [],
    "is_collapsed": false,
    "deepnote_app_coordinates": {
     "x": 0,
     "y": 36,
     "w": 12,
     "h": 5
    },
    "deepnote_cell_type": "text-cell-h3"
   }
  },
  {
   "cell_type": "code",
   "metadata": {
    "cell_id": "925be7cf749545bd87602e379c2dc381",
    "tags": [],
    "deepnote_app_coordinates": {
     "x": 0,
     "y": 42,
     "w": 12,
     "h": 5
    },
    "deepnote_cell_type": "code",
    "deepnote_cell_height": 66
   },
   "source": "url = 'https://www.x-rates.com/calculator/?from=USD&to=EUR&amount=1'",
   "execution_count": null,
   "outputs": []
  },
  {
   "cell_type": "markdown",
   "source": "### ",
   "metadata": {
    "cell_id": "a5cf339e00d5465785abecac1bc2fdf6",
    "tags": [],
    "is_collapsed": false,
    "deepnote_app_coordinates": {
     "x": 0,
     "y": 48,
     "w": 12,
     "h": 5
    },
    "deepnote_cell_type": "text-cell-h3"
   }
  },
  {
   "cell_type": "markdown",
   "source": "### 4. Parameterize the 'input currency' and 'output currency' in the 'url' using 'Python string formatting' ",
   "metadata": {
    "cell_id": "d1f2760b344d4283ab173560d24b7f22",
    "tags": [],
    "is_collapsed": false,
    "deepnote_app_coordinates": {
     "x": 0,
     "y": 54,
     "w": 12,
     "h": 5
    },
    "deepnote_cell_type": "text-cell-h3"
   }
  },
  {
   "cell_type": "code",
   "metadata": {
    "cell_id": "25031f30cb4e4bf4aecb77a1f4e2d59f",
    "tags": [],
    "deepnote_to_be_reexecuted": false,
    "source_hash": "f6f82fb9",
    "execution_start": 1650631698408,
    "execution_millis": 105,
    "deepnote_app_coordinates": {
     "x": 0,
     "y": 60,
     "w": 12,
     "h": 5
    },
    "deepnote_cell_type": "code",
    "deepnote_cell_height": 162.1875
   },
   "source": "# 'in_currency' and 'out_currency' will be the function argument parameters defined later\nurl = f'https://www.x-rates.com/calculator/?from={in_currency}&to={out_currency}&amount=1'",
   "execution_count": 4,
   "outputs": [
    {
     "output_type": "error",
     "ename": "NameError",
     "evalue": "name 'in_currency' is not defined",
     "traceback": [
      "\u001b[0;31m---------------------------------------------------------------------------\u001b[0m",
      "\u001b[0;31mNameError\u001b[0m                                 Traceback (most recent call last)",
      "\u001b[0;32m<ipython-input-4-8659a3c36750>\u001b[0m in \u001b[0;36m<module>\u001b[0;34m\u001b[0m\n\u001b[0;32m----> 1\u001b[0;31m \u001b[0murl\u001b[0m \u001b[0;34m=\u001b[0m \u001b[0;34mf'https://www.x-rates.com/calculator/?from={in_currency}&to={out_currency}&amount=1'\u001b[0m\u001b[0;34m\u001b[0m\u001b[0;34m\u001b[0m\u001b[0m\n\u001b[0m",
      "\u001b[0;31mNameError\u001b[0m: name 'in_currency' is not defined"
     ]
    }
   ]
  },
  {
   "cell_type": "markdown",
   "source": "### ",
   "metadata": {
    "cell_id": "58f5f90c1db94ae282b47fbe23ec2ae9",
    "tags": [],
    "is_collapsed": false,
    "deepnote_app_coordinates": {
     "x": 0,
     "y": 162,
     "w": 12,
     "h": 5
    },
    "deepnote_cell_type": "text-cell-h3"
   }
  },
  {
   "cell_type": "markdown",
   "source": "### 5. Scrape the text content from the 'url' page using the 'request.get(url).text' method",
   "metadata": {
    "cell_id": "475bb10a2aea4f60a5250dca5c60fd4d",
    "tags": [],
    "is_collapsed": false,
    "deepnote_app_coordinates": {
     "x": 0,
     "y": 66,
     "w": 12,
     "h": 5
    },
    "deepnote_cell_type": "text-cell-h3"
   }
  },
  {
   "cell_type": "code",
   "metadata": {
    "cell_id": "810b5144503242bd9e527e16d0dcc77e",
    "tags": [],
    "deepnote_app_coordinates": {
     "x": 0,
     "y": 72,
     "w": 12,
     "h": 5
    },
    "deepnote_cell_type": "code",
    "deepnote_cell_height": 66
   },
   "source": "content = requests.get(url).text",
   "execution_count": null,
   "outputs": []
  },
  {
   "cell_type": "markdown",
   "source": "### ",
   "metadata": {
    "cell_id": "d4618784e2b0410bb9a96f7910ae80ad",
    "tags": [],
    "is_collapsed": false,
    "deepnote_app_coordinates": {
     "x": 0,
     "y": 156,
     "w": 12,
     "h": 5
    },
    "deepnote_cell_type": "text-cell-h3"
   }
  },
  {
   "cell_type": "markdown",
   "source": "### 6. Find the 'currency rate' by parsing the scraped content using the 'BeautifulSoup.find' method",
   "metadata": {
    "cell_id": "89adb7b7262349faaa85d88932a27063",
    "tags": [],
    "is_collapsed": false,
    "deepnote_app_coordinates": {
     "x": 0,
     "y": 78,
     "w": 12,
     "h": 5
    },
    "deepnote_cell_type": "text-cell-h3"
   }
  },
  {
   "cell_type": "code",
   "metadata": {
    "cell_id": "8fc5a238bcc0480d89a8049fd6e01afb",
    "tags": [],
    "deepnote_app_coordinates": {
     "x": 0,
     "y": 84,
     "w": 12,
     "h": 5
    },
    "deepnote_cell_type": "code",
    "deepnote_cell_height": 84
   },
   "source": "soup = BeautifulSoup(content, 'html.parser')\nrate = soup.find('span', class_='ccOutputRslt').getText()",
   "execution_count": null,
   "outputs": []
  },
  {
   "cell_type": "markdown",
   "source": "### ",
   "metadata": {
    "cell_id": "08e87db16cdc415aa5d3c5cd0e401532",
    "tags": [],
    "is_collapsed": false,
    "deepnote_app_coordinates": {
     "x": 0,
     "y": 150,
     "w": 12,
     "h": 5
    },
    "deepnote_cell_type": "text-cell-h3"
   }
  },
  {
   "cell_type": "markdown",
   "source": "### 7. Clean the 'rate' by slicing the last 4 characters and converting those to a string",
   "metadata": {
    "cell_id": "5caea7e71ece444e8b1cd493fd62cd70",
    "tags": [],
    "is_collapsed": false,
    "deepnote_app_coordinates": {
     "x": 0,
     "y": 90,
     "w": 12,
     "h": 5
    },
    "deepnote_cell_type": "text-cell-h3"
   }
  },
  {
   "cell_type": "code",
   "metadata": {
    "cell_id": "b04bc319e350457f8533b81ad260b998",
    "tags": [],
    "deepnote_app_coordinates": {
     "x": 0,
     "y": 96,
     "w": 12,
     "h": 5
    },
    "deepnote_cell_type": "code",
    "deepnote_cell_height": 66
   },
   "source": "rate=float(rate[:-4])",
   "execution_count": null,
   "outputs": []
  },
  {
   "cell_type": "markdown",
   "source": "### ",
   "metadata": {
    "cell_id": "967a0abebb0b4ee5ab4e081662642321",
    "tags": [],
    "is_collapsed": false,
    "deepnote_app_coordinates": {
     "x": 0,
     "y": 102,
     "w": 12,
     "h": 5
    },
    "deepnote_cell_type": "text-cell-h3"
   }
  },
  {
   "cell_type": "markdown",
   "source": "### 8. Wrap all the code in steps 4 to 7 into a  'get_currency' function",
   "metadata": {
    "cell_id": "30f4d4fddec246dc952834b7232fb685",
    "tags": [],
    "is_collapsed": false,
    "deepnote_app_coordinates": {
     "x": 0,
     "y": 108,
     "w": 12,
     "h": 5
    },
    "owner_user_id": "bfc74f03-d847-4654-9735-4672515d80d1",
    "deepnote_cell_type": "text-cell-h3"
   }
  },
  {
   "cell_type": "code",
   "metadata": {
    "cell_id": "2dbd308956c24891b771b767599763c7",
    "tags": [],
    "deepnote_to_be_reexecuted": false,
    "source_hash": "bd6f0116",
    "execution_start": 1650631872968,
    "execution_millis": 0,
    "deepnote_app_coordinates": {
     "x": 0,
     "y": 114,
     "w": 12,
     "h": 5
    },
    "deepnote_cell_type": "code",
    "deepnote_cell_height": 207
   },
   "source": "def get_currency(in_currency, out_currency):\n    url = f'https://www.x-rates.com/calculator/?from=' \\\n          f'{in_currency}&to={out_currency}&amount=1'\n    content = requests.get(url).text\n    soup = BeautifulSoup(content, 'html.parser')\n    rate = soup.find('span', class_='ccOutputRslt').getText()\n    rate=float(rate[:-4])\n    return rate",
   "execution_count": 5,
   "outputs": []
  },
  {
   "cell_type": "markdown",
   "source": "### 9. Instantiate the 'gradio interface' with the 'gradio.interface()' method",
   "metadata": {
    "cell_id": "09daef0d2db64c3a94d91e98e3815ff5",
    "tags": [],
    "is_collapsed": false,
    "deepnote_app_coordinates": {
     "x": 0,
     "y": 126,
     "w": 12,
     "h": 5
    },
    "deepnote_cell_type": "text-cell-h3"
   }
  },
  {
   "cell_type": "code",
   "source": "# First argument to the method is the function: get_currency created previously\n# Second argument is a list of the types of inputs, eg. 'text', 'number' etc.\n# Third argument is the type of output returned from our function, eg. 'text', 'number' etc.\niface = gr.Interface(fn=get_currency, inputs=[\"text\", \"text\"], outputs=\"number\")",
   "metadata": {
    "cell_id": "be2d0820bf1b42709857c5ff12606d5b",
    "tags": [],
    "deepnote_to_be_reexecuted": false,
    "source_hash": "61716ea1",
    "execution_start": 1650631882877,
    "execution_millis": 681,
    "deepnote_app_coordinates": {
     "x": 0,
     "y": 120,
     "w": 12,
     "h": 5
    },
    "deepnote_cell_type": "code",
    "deepnote_cell_height": 135
   },
   "outputs": [],
   "execution_count": 6
  },
  {
   "cell_type": "markdown",
   "source": "### 10. Launch the App using the 'gradio.Interface.launch()' method",
   "metadata": {
    "cell_id": "f8ee924eee0d4137972f23a6814d9e03",
    "tags": [],
    "is_collapsed": false,
    "deepnote_app_coordinates": {
     "x": 0,
     "y": 132,
     "w": 12,
     "h": 5
    },
    "deepnote_cell_type": "text-cell-h3"
   }
  },
  {
   "cell_type": "code",
   "source": "# Passing 'share = True' will also generate a public url which is temporarily hosted a gradio web app\niface.launch(share=True)",
   "metadata": {
    "cell_id": "de9dedc9b8c340a789076d91fedd653a",
    "tags": [],
    "deepnote_to_be_reexecuted": false,
    "source_hash": "c3365794",
    "execution_start": 1650631888042,
    "execution_millis": 3124,
    "deepnote_app_coordinates": {
     "x": 0,
     "y": 138,
     "w": 12,
     "h": 5
    },
    "deepnote_cell_type": "code",
    "deepnote_cell_height": 813.578125,
    "deepnote_output_heights": [
     null,
     502,
     59.59375
    ]
   },
   "outputs": [
    {
     "name": "stdout",
     "text": "Running on local URL:  http://127.0.0.1:7860/\nRunning on public URL: https://31718.gradio.app\n\nThis share link expires in 72 hours. For free permanent hosting, check out Spaces (https://huggingface.co/spaces)\n",
     "output_type": "stream"
    },
    {
     "data": {
      "text/plain": "<IPython.lib.display.IFrame at 0x7f4c8e5d18d0>",
      "text/html": "\n        <iframe\n            width=\"900\"\n            height=\"500\"\n            src=\"https://31718.gradio.app\"\n            frameborder=\"0\"\n            allowfullscreen\n            \n        ></iframe>\n        "
     },
     "metadata": {},
     "output_type": "display_data"
    },
    {
     "output_type": "execute_result",
     "execution_count": 7,
     "data": {
      "text/plain": "(<fastapi.applications.FastAPI at 0x7f4c912fe090>,\n 'http://127.0.0.1:7860/',\n 'https://31718.gradio.app')"
     },
     "metadata": {}
    }
   ],
   "execution_count": 7
  },
  {
   "cell_type": "code",
   "source": "",
   "metadata": {
    "cell_id": "669af0cde1cb4608bbc4e50cddee78f6",
    "tags": [],
    "deepnote_app_coordinates": {
     "x": 0,
     "y": 144,
     "w": 12,
     "h": 5
    },
    "deepnote_cell_type": "code",
    "deepnote_cell_height": 66
   },
   "outputs": [],
   "execution_count": null
  },
  {
   "cell_type": "markdown",
   "source": "<a style='text-decoration:none;line-height:16px;display:flex;color:#5B5B62;padding:10px;justify-content:end;' href='https://deepnote.com?utm_source=created-in-deepnote-cell&projectId=63623716-1e76-4eff-be7b-19d61659575c' target=\"_blank\">\n<img alt='Created in deepnote.com' style='display:inline;max-height:16px;margin:0px;margin-right:7.5px;' src='data:image/svg+xml;base64,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' > </img>\nCreated in <span style='font-weight:600;margin-left:4px;'>Deepnote</span></a>",
   "metadata": {
    "tags": [],
    "created_in_deepnote_cell": true,
    "deepnote_cell_type": "markdown"
   }
  }
 ],
 "nbformat": 4,
 "nbformat_minor": 2,
 "metadata": {
  "orig_nbformat": 2,
  "deepnote": {},
  "deepnote_notebook_id": "2cb9ce46-6753-4e69-a004-9c961fc9b57c",
  "deepnote_execution_queue": [],
  "deepnote_app_layout": "article"
 }
}
